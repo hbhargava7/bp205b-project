{
 "cells": [
  {
   "cell_type": "code",
   "execution_count": 1,
   "metadata": {},
   "outputs": [],
   "source": [
    "from tqdm.notebook import tqdm\n",
    "import numpy as np\n",
    "import pandas as pd\n",
    "from Bio.SeqIO.QualityIO import FastqGeneralIterator\n",
    "import gzip\n",
    "from sklearn.neighbors import KernelDensity\n",
    "from scipy.signal import argrelextrema\n",
    "import seaborn as sns\n",
    "import matplotlib.pyplot as plt"
   ]
  },
  {
   "cell_type": "code",
   "execution_count": 2,
   "metadata": {},
   "outputs": [],
   "source": [
    "def cell_whitelist(barcode_file):\n",
    "    whitelist = []\n",
    "    with open(barcode_file) as wl:\n",
    "        whitelist = [x[:-2] for x in wl.read().splitlines()]\n",
    "    return whitelist"
   ]
  },
  {
   "cell_type": "code",
   "execution_count": 3,
   "metadata": {},
   "outputs": [],
   "source": [
    "def ms_whitelist(barcode_file, sep = ',', skipfirst = False):\n",
    "    if not skipfirst:\n",
    "        return [x.split(sep)[0] for x in open(barcode_file).read().splitlines()]\n",
    "    else:\n",
    "         return [x.split(sep)[0] for x in open(barcode_file).read().splitlines()][1:]"
   ]
  },
  {
   "cell_type": "code",
   "execution_count": 4,
   "metadata": {},
   "outputs": [],
   "source": [
    "def cells_to_reads(read1, read2, white, multiseqBool = True):\n",
    "    cells = {}\n",
    "    with gzip.open(read1, 'rt') as r1File, gzip.open(read2, 'rt') as r2File:\n",
    "        count = 0\n",
    "        for i, ((title1, seq1, qual1), (title2, seq2, qual2)) in tqdm(enumerate(zip(FastqGeneralIterator(r1File), FastqGeneralIterator(r2File)))):\n",
    "            # Get the pieces of interest\n",
    "            cell = seq1[0:16]\n",
    "            if multiseqBool:\n",
    "                UMI = seq1[17:27]\n",
    "                multiseq = seq2[0:8]\n",
    "            else:\n",
    "                UMI = seq1[17:29]\n",
    "                multiseq = seq2[0:18]\n",
    "            coding = seq2[38:]\n",
    "            \n",
    "            read = {}\n",
    "            read['umi'] = UMI\n",
    "            read['multiseq'] = multiseq\n",
    "            read['coding'] = coding\n",
    "            \n",
    "            # Only add cell barcodes that are in the whitelist\n",
    "            if cell in white:\n",
    "                if cell not in cells:\n",
    "                    cells[cell] = []\n",
    "\n",
    "                cells[cell].append(read)\n",
    "    return cells"
   ]
  },
  {
   "cell_type": "code",
   "execution_count": 5,
   "metadata": {},
   "outputs": [],
   "source": [
    "def flatten_UMI(cells):\n",
    "    newCells = {}\n",
    "    for cellid, cell in tqdm(cells.items()): # for each cell (by cell barcode)\n",
    "        umis = []\n",
    "        firstUniqueReads = []\n",
    "        for read in cell: # for each read with that cell barcode, keep only unique\n",
    "            if read['umi'] not in umis: \n",
    "                firstUniqueReads.append(read)\n",
    "                umis.append(read['umi'])\n",
    "        newCells[cellid] = firstUniqueReads\n",
    "    return newCells"
   ]
  },
  {
   "cell_type": "code",
   "execution_count": 6,
   "metadata": {},
   "outputs": [],
   "source": [
    "def map_barcodes(cells, mswhite):\n",
    "    cellBarcodes = {}\n",
    "    for cellid, cell in tqdm(cells.items()):\n",
    "        ms = {} # multiseq barcodes\n",
    "        for read in cell:\n",
    "            if read['multiseq'] in mswhite:\n",
    "                if read['multiseq'] in ms:\n",
    "                    ms[read['multiseq']] = ms[read['multiseq']] + 1\n",
    "                else:\n",
    "                    ms[read['multiseq']] = 1\n",
    "        cellBarcodes[cellid] = ms\n",
    "    return cellBarcodes"
   ]
  },
  {
   "cell_type": "code",
   "execution_count": 7,
   "metadata": {},
   "outputs": [],
   "source": [
    "def plot_counts(cellBarcodes, name, save = False):\n",
    "    \n",
    "    all_list = [val for sublist in [list(x.keys()) for x in cellBarcodes.values()] for val in sublist]\n",
    "    targets = sorted(set(all_list), key = lambda x: sum([x == y for y in all_list]), reverse = True)[:3]\n",
    "    \n",
    "    f, ax = plt.subplots(figsize=(5, 5))\n",
    "\n",
    "    for target in targets:\n",
    "        counts = []\n",
    "        for cell in cellBarcodes:\n",
    "            barcodes = cellBarcodes[cell]\n",
    "            for barcode in barcodes:\n",
    "                if barcode == target:\n",
    "                    counts.append(barcodes[barcode])\n",
    "\n",
    "        df = pd.DataFrame({'counts':counts})            \n",
    "        x = df.counts.tolist()\n",
    "        x = [np.log(i) for i in x]\n",
    "\n",
    "        sns.kdeplot(x, label = target)\n",
    "    if save:\n",
    "        plt.savefig(\"results/\" + name + '_counts.png', bbox_inches='tight')\n"
   ]
  },
  {
   "cell_type": "code",
   "execution_count": 8,
   "metadata": {},
   "outputs": [],
   "source": [
    "def threshold_for_barcode(target, data, cache):\n",
    "    # Get the counts for target barcode from all the cells\n",
    "    if target in cache.keys():\n",
    "        return cache[target]\n",
    "        \n",
    "    counts = []\n",
    "    for cell in data:\n",
    "        barcodes = data[cell]\n",
    "        for barcode in barcodes:\n",
    "            if barcode == target:\n",
    "                counts.append(barcodes[barcode])\n",
    "\n",
    "    x = [[np.log(i)] for i in counts]\n",
    "    \n",
    "    # instantiate and fit the KDE model\n",
    "    kde = KernelDensity(bandwidth=.5, kernel='gaussian')\n",
    "    kde.fit(x)\n",
    "    x_d = np.linspace(-4,8,2000)\n",
    "    logprob = kde.score_samples(x_d[:, None])\n",
    "    minm = argrelextrema(np.exp(logprob), np.less)  # (array([2, 5, 7]),)\n",
    "    if len(minm[0]) > 0:\n",
    "        cache[target] = x_d[minm[0][0]]\n",
    "        return x_d[minm[0][0]]\n",
    "    else:\n",
    "        return 100"
   ]
  },
  {
   "cell_type": "code",
   "execution_count": 9,
   "metadata": {},
   "outputs": [],
   "source": [
    "def get_final_labels(cellBarcodes):\n",
    "    cache = {}\n",
    "    finalMSLabels = {}\n",
    "    for cellid, barcodes in tqdm(cellBarcodes.items()):\n",
    "        aboveThresh = []\n",
    "        sorted_counts = sorted(barcodes.values(), reverse = True)\n",
    "        quality = float(\"inf\")\n",
    "        if len(sorted_counts) > 1:\n",
    "            quality = sorted_counts[0]/sorted_counts[1]\n",
    "        for barcode, count in barcodes.items():\n",
    "            count = barcodes[barcode]\n",
    "            if count >= np.exp(threshold_for_barcode(barcode, cellBarcodes, cache)):\n",
    "                aboveThresh.append(barcode)\n",
    "        if len(aboveThresh) == 1:\n",
    "            finalMSLabels[cellid] = (aboveThresh[0], quality)\n",
    "        else:\n",
    "            finalMSLabels[cellid] = (\"DOUBLET\", quality)\n",
    "    return finalMSLabels"
   ]
  },
  {
   "cell_type": "code",
   "execution_count": 10,
   "metadata": {},
   "outputs": [],
   "source": [
    "def write_csv(cellBarcodes, name): \n",
    "    df = pd.DataFrame([(cell, ms, q) for cell, (ms, q) in cellBarcodes.items()], columns = ['cell barcode', 'multiseq barcode', 'quality'])\n",
    "    df.to_csv(\"results/\" + name + \"_barcode_identities.csv\")"
   ]
  },
  {
   "cell_type": "code",
   "execution_count": 11,
   "metadata": {},
   "outputs": [],
   "source": [
    "def run_all(read1, read2, cell_wl, ms_wl, label, multiseqBool = True, save = True):\n",
    "    cells = cells_to_reads(read1, read2, cell_whitelist(cell_wl), multiseqBool)\n",
    "    unique_reads = flatten_UMI(cells)\n",
    "    if multiseqBool:\n",
    "        cell_barcodes = map_barcodes(unique_reads, ms_whitelist(ms_wl))\n",
    "    else:\n",
    "        cell_barcodes = map_barcodes(unique_reads, ms_whitelist(ms_wl, sep = \"\\t\", skipfirst = True))\n",
    "    plot_counts(cell_barcodes, label, save)\n",
    "    final_labels = get_final_labels(cell_barcodes)\n",
    "    write_csv(final_labels, label)"
   ]
  },
  {
   "cell_type": "code",
   "execution_count": 12,
   "metadata": {},
   "outputs": [
    {
     "data": {
      "application/vnd.jupyter.widget-view+json": {
       "model_id": "141fee85cebb4fbf92e418889259457b",
       "version_major": 2,
       "version_minor": 0
      },
      "text/plain": [
       "HBox(children=(FloatProgress(value=1.0, bar_style='info', max=1.0), HTML(value='')))"
      ]
     },
     "metadata": {},
     "output_type": "display_data"
    },
    {
     "name": "stdout",
     "output_type": "stream",
     "text": [
      "\n"
     ]
    },
    {
     "data": {
      "application/vnd.jupyter.widget-view+json": {
       "model_id": "7a8edc47871d49d5850b16a55e9da50c",
       "version_major": 2,
       "version_minor": 0
      },
      "text/plain": [
       "HBox(children=(FloatProgress(value=0.0, max=9525.0), HTML(value='')))"
      ]
     },
     "metadata": {},
     "output_type": "display_data"
    },
    {
     "name": "stdout",
     "output_type": "stream",
     "text": [
      "\n"
     ]
    },
    {
     "data": {
      "application/vnd.jupyter.widget-view+json": {
       "model_id": "73f08def7254466b8656e29e401e8dfe",
       "version_major": 2,
       "version_minor": 0
      },
      "text/plain": [
       "HBox(children=(FloatProgress(value=0.0, max=9525.0), HTML(value='')))"
      ]
     },
     "metadata": {},
     "output_type": "display_data"
    },
    {
     "name": "stdout",
     "output_type": "stream",
     "text": [
      "\n"
     ]
    },
    {
     "data": {
      "application/vnd.jupyter.widget-view+json": {
       "model_id": "826b96f2d6044fc88139943240f92bde",
       "version_major": 2,
       "version_minor": 0
      },
      "text/plain": [
       "HBox(children=(FloatProgress(value=0.0, max=9525.0), HTML(value='')))"
      ]
     },
     "metadata": {},
     "output_type": "display_data"
    },
    {
     "name": "stdout",
     "output_type": "stream",
     "text": [
      "\n"
     ]
    },
    {
     "data": {
      "image/png": "[encoded data removed]",
      "text/plain": [
       "<Figure size 360x360 with 1 Axes>"
      ]
     },
     "metadata": {
      "needs_background": "light"
     },
     "output_type": "display_data"
    }
   ],
   "source": [
    "run_all(\"mk_dataset/HCC_MK_MS_S5_L001_R1_001.fastq.gz\",\n",
    "        \"mk_dataset/HCC_MK_MS_S5_L001_R2_001.fastq.gz\",\n",
    "        'mk_dataset/cell-barcodes.tsv',\n",
    "        'mk_dataset/LMOlist.csv',\n",
    "        \"MK\"\n",
    "       )"
   ]
  },
  {
   "cell_type": "code",
   "execution_count": 13,
   "metadata": {},
   "outputs": [
    {
     "data": {
      "application/vnd.jupyter.widget-view+json": {
       "model_id": "62ae293162aa482eae61bc97fcb587d9",
       "version_major": 2,
       "version_minor": 0
      },
      "text/plain": [
       "HBox(children=(FloatProgress(value=1.0, bar_style='info', max=1.0), HTML(value='')))"
      ]
     },
     "metadata": {},
     "output_type": "display_data"
    },
    {
     "name": "stdout",
     "output_type": "stream",
     "text": [
      "\n"
     ]
    },
    {
     "data": {
      "application/vnd.jupyter.widget-view+json": {
       "model_id": "5bf4272a4e084919b985918ba83f382c",
       "version_major": 2,
       "version_minor": 0
      },
      "text/plain": [
       "HBox(children=(FloatProgress(value=0.0, max=4151.0), HTML(value='')))"
      ]
     },
     "metadata": {},
     "output_type": "display_data"
    },
    {
     "name": "stdout",
     "output_type": "stream",
     "text": [
      "\n"
     ]
    },
    {
     "data": {
      "application/vnd.jupyter.widget-view+json": {
       "model_id": "301af004c2e14ec4b49133660f6cca75",
       "version_major": 2,
       "version_minor": 0
      },
      "text/plain": [
       "HBox(children=(FloatProgress(value=0.0, max=4151.0), HTML(value='')))"
      ]
     },
     "metadata": {},
     "output_type": "display_data"
    },
    {
     "name": "stdout",
     "output_type": "stream",
     "text": [
      "\n"
     ]
    },
    {
     "data": {
      "application/vnd.jupyter.widget-view+json": {
       "model_id": "2c21e017d7284558a73ebf13cd027d87",
       "version_major": 2,
       "version_minor": 0
      },
      "text/plain": [
       "HBox(children=(FloatProgress(value=0.0, max=4151.0), HTML(value='')))"
      ]
     },
     "metadata": {},
     "output_type": "display_data"
    },
    {
     "name": "stdout",
     "output_type": "stream",
     "text": [
      "\n"
     ]
    },
    {
     "data": {
      "image/png": "[encoded data removed]",
      "text/plain": [
       "<Figure size 360x360 with 1 Axes>"
      ]
     },
     "metadata": {
      "needs_background": "light"
     },
     "output_type": "display_data"
    }
   ],
   "source": [
    "run_all(\"aa_dataset/HCC_AA_MS_S6_L001_R1_001.fastq.gz\",\n",
    "        \"aa_dataset/HCC_AA_MS_S6_L001_R2_001.fastq.gz\",\n",
    "        'aa_dataset/cell-barcodes.tsv',\n",
    "        'aa_dataset/LMOlist.csv',\n",
    "        \"AA\"\n",
    "       )"
   ]
  },
  {
   "cell_type": "code",
   "execution_count": null,
   "metadata": {},
   "outputs": [
    {
     "data": {
      "application/vnd.jupyter.widget-view+json": {
       "model_id": "3dd1bed6698a4eeeb409a084c3c02914",
       "version_major": 2,
       "version_minor": 0
      },
      "text/plain": [
       "HBox(children=(FloatProgress(value=1.0, bar_style='info', max=1.0), HTML(value='')))"
      ]
     },
     "metadata": {},
     "output_type": "display_data"
    }
   ],
   "source": [
    "run_all(\"gbc_dataset/BW-MDA_S1_L001_R1_001.trimmed.fastq.gz\",\n",
    "        \"gbc_dataset/BW-MDA_S1_L001_R2_001.trimmed.fastq.gz\",\n",
    "        'gbc_dataset/cell-barcodes.tsv',\n",
    "        'gbc_dataset/genetic_barcodes.txt',\n",
    "        \"GBC\",\n",
    "        multiseqBool = False\n",
    "       )"
   ]
  }
 ],
 "metadata": {
  "kernelspec": {
   "display_name": "Python 3",
   "language": "python",
   "name": "python3"
  },
  "language_info": {
   "codemirror_mode": {
    "name": "ipython",
    "version": 3
   },
   "file_extension": ".py",
   "mimetype": "text/x-python",
   "name": "python",
   "nbconvert_exporter": "python",
   "pygments_lexer": "ipython3",
   "version": "3.7.6"
  }
 },
 "nbformat": 4,
 "nbformat_minor": 2
}
